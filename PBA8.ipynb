{
 "cells": [
  {
   "cell_type": "raw",
   "id": "b4e7bccb",
   "metadata": {},
   "source": [
    "1. Is the Python Standard Library included with PyInputPlus?\n",
    "ANS- YES"
   ]
  },
  {
   "cell_type": "raw",
   "id": "7b80521f",
   "metadata": {},
   "source": [
    "2. Why is PyInputPlus commonly imported with import pyinputplus as pypi?\n",
    "ANS- You can import the module with import pyinputplus as pyip so that you can enter a shorter name when calling the module's functions. PyInputPlus has functions for entering a variety of input, including strings, numbers, dates, yes/no, True/False, emails, and files."
   ]
  },
  {
   "cell_type": "raw",
   "id": "d82e7e2e",
   "metadata": {},
   "source": [
    "3. How do you distinguish between inputInt() and inputFloat()?\n",
    "ANS- inputInt() : Accepts an integer value. ...\n",
    "inputFloat() : Accepts a floating-point numeric value. ..."
   ]
  },
  {
   "cell_type": "raw",
   "id": "edaf031a",
   "metadata": {},
   "source": [
    "4. Using PyInputPlus, how do you ensure that the user enters a whole number between 0 and 99?\n",
    "ANS- To check if the input string is an integer number, convert the user input to the integer type using the int() constructor. To check if the input is a float number, convert the user input to the float type using the float() constructor"
   ]
  },
  {
   "cell_type": "raw",
   "id": "08ec3215",
   "metadata": {},
   "source": [
    "5. What is transferred to the keyword arguments allowRegexes and blockRegexes?\n",
    "ANS-  The allowRegexes and blockRegexes keyword arguments take a list of regular expression strings to determine what the PyInputPlus function will accept or reject as valid input. "
   ]
  },
  {
   "cell_type": "raw",
   "id": "0a47a978",
   "metadata": {},
   "source": [
    "6. If a blank input is entered three times, what does inputStr(limit=3) do?\n",
    "ANS- inputStr() raises a TimeoutException exception. If the user answers incorrectly more than 3 times, it raises a RetryLimitException exception."
   ]
  },
  {
   "cell_type": "code",
   "execution_count": null,
   "id": "75085b54",
   "metadata": {},
   "outputs": [],
   "source": [
    "7. If blank input is entered three times, what does inputStr(limit=3, default='hello') do?\n",
    "ANS- 'hello'"
   ]
  },
  {
   "cell_type": "code",
   "execution_count": null,
   "id": "9e75cf18",
   "metadata": {},
   "outputs": [],
   "source": []
  }
 ],
 "metadata": {
  "kernelspec": {
   "display_name": "Python 3 (ipykernel)",
   "language": "python",
   "name": "python3"
  },
  "language_info": {
   "codemirror_mode": {
    "name": "ipython",
    "version": 3
   },
   "file_extension": ".py",
   "mimetype": "text/x-python",
   "name": "python",
   "nbconvert_exporter": "python",
   "pygments_lexer": "ipython3",
   "version": "3.9.7"
  }
 },
 "nbformat": 4,
 "nbformat_minor": 5
}
